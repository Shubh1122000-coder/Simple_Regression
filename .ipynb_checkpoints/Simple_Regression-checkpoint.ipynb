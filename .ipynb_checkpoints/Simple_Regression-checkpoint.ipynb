{
 "cells": [
  {
   "cell_type": "code",
   "execution_count": 1,
   "id": "54db8a3e",
   "metadata": {},
   "outputs": [],
   "source": [
    "import matplotlib.pyplot as plt\n",
    "import numpy as np\n",
    "from sklearn import datasets, linear_model "
   ]
  },
  {
   "cell_type": "code",
   "execution_count": 2,
   "id": "d2769da1",
   "metadata": {},
   "outputs": [],
   "source": [
    "diabetes = datasets.load_diabetes()"
   ]
  },
  {
   "cell_type": "code",
   "execution_count": 3,
   "id": "47d3945d",
   "metadata": {},
   "outputs": [
    {
     "data": {
      "text/plain": [
       "array([[ 0.03807591,  0.05068012,  0.06169621, ..., -0.00259226,\n",
       "         0.01990842, -0.01764613],\n",
       "       [-0.00188202, -0.04464164, -0.05147406, ..., -0.03949338,\n",
       "        -0.06832974, -0.09220405],\n",
       "       [ 0.08529891,  0.05068012,  0.04445121, ..., -0.00259226,\n",
       "         0.00286377, -0.02593034],\n",
       "       ...,\n",
       "       [ 0.04170844,  0.05068012, -0.01590626, ..., -0.01107952,\n",
       "        -0.04687948,  0.01549073],\n",
       "       [-0.04547248, -0.04464164,  0.03906215, ...,  0.02655962,\n",
       "         0.04452837, -0.02593034],\n",
       "       [-0.04547248, -0.04464164, -0.0730303 , ..., -0.03949338,\n",
       "        -0.00421986,  0.00306441]])"
      ]
     },
     "execution_count": 3,
     "metadata": {},
     "output_type": "execute_result"
    }
   ],
   "source": [
    "diabetes.data"
   ]
  },
  {
   "cell_type": "code",
   "execution_count": 4,
   "id": "26a39cff",
   "metadata": {},
   "outputs": [],
   "source": [
    "diabetes_X = np.array([[1], [2], [3]])\n",
    "diabetes_X_train  = diabetes_X\n",
    "diabetes_X_test = diabetes_X"
   ]
  },
  {
   "cell_type": "code",
   "execution_count": 5,
   "id": "1e0b803e",
   "metadata": {},
   "outputs": [],
   "source": [
    "diabetes_y_train  = np.array([3, 2, 4])\n",
    "diabetes_y_test = np.array([3, 2, 4])"
   ]
  },
  {
   "cell_type": "code",
   "execution_count": 6,
   "id": "de3dd3f9",
   "metadata": {},
   "outputs": [],
   "source": [
    "model = linear_model.LinearRegression()\n",
    "model.fit(diabetes_X_train, diabetes_y_train)\n",
    "diabetes_y_predicted = model.predict(diabetes_X_test)"
   ]
  },
  {
   "cell_type": "code",
   "execution_count": 7,
   "id": "86cd8de0",
   "metadata": {},
   "outputs": [],
   "source": [
    "# model = linear_model.LinearRegression()\n",
    "# model.fit(diabetes_X_train, diabetes_Y_train)\n",
    "# diabetes_y_predicted = model.predict(diabetes_X_test)"
   ]
  },
  {
   "cell_type": "code",
   "execution_count": 8,
   "id": "af77dd6a",
   "metadata": {},
   "outputs": [],
   "source": [
    "# print(\"Mean squared error is:  \", mean_squared_error(diabetes_Y_test, diabetes_Y_predicted))\n",
    "# print(\"Weights:  \",  model.coef_)\n",
    "# print(\"Intercept:  \",  model.intercept_)"
   ]
  },
  {
   "cell_type": "code",
   "execution_count": 9,
   "id": "94631d68",
   "metadata": {},
   "outputs": [
    {
     "data": {
      "image/png": "[encoded data removed]",
      "text/plain": [
       "<Figure size 432x288 with 1 Axes>"
      ]
     },
     "metadata": {
      "needs_background": "light"
     },
     "output_type": "display_data"
    }
   ],
   "source": [
    "plt.scatter(diabetes_X_test, diabetes_y_test)\n",
    "plt.plot(diabetes_X_test, diabetes_y_predicted)\n",
    "plt.title(\"diabetes model\")\n",
    "plt.show()"
   ]
  },
  {
   "cell_type": "code",
   "execution_count": null,
   "id": "582b2c97",
   "metadata": {},
   "outputs": [],
   "source": []
  },
  {
   "cell_type": "code",
   "execution_count": null,
   "id": "2b5605f2",
   "metadata": {},
   "outputs": [],
   "source": []
  }
 ],
 "metadata": {
  "kernelspec": {
   "display_name": "Python 3 (ipykernel)",
   "language": "python",
   "name": "python3"
  },
  "language_info": {
   "codemirror_mode": {
    "name": "ipython",
    "version": 3
   },
   "file_extension": ".py",
   "mimetype": "text/x-python",
   "name": "python",
   "nbconvert_exporter": "python",
   "pygments_lexer": "ipython3",
   "version": "3.8.6"
  }
 },
 "nbformat": 4,
 "nbformat_minor": 5
}
